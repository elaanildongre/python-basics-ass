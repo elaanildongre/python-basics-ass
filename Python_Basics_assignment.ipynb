{
  "nbformat": 4,
  "nbformat_minor": 0,
  "metadata": {
    "colab": {
      "provenance": []
    },
    "kernelspec": {
      "name": "python3",
      "display_name": "Python 3"
    },
    "language_info": {
      "name": "python"
    }
  },
  "cells": [
    {
      "cell_type": "markdown",
      "source": [
        " 1. What is Python, and why is it popular ?\n",
        "      - pyhthon is a high level programing language. It is popular becaude of it easy to understand, write and it has wide range of libraries.\n",
        "2. What is an interpreter in Python?\n",
        "      - An interpreter in Python reads and executes code line by line, translating it to meachine code.\n",
        "3. What are pre-defined keywords in Python ?\n",
        "     - Keywords are reserved words in Python that have special meanings, such as if, elsse, for, def etc\n",
        "4. Can keywords be used as variable names?\n",
        "      - no\n",
        "5. What is mutability in Python?\n",
        "     - Mutability refers to whether or not an object can be changed after it is created.\n",
        "6.  Why are lists mutable, but tuples are immutable?\n",
        "    - Lists are designed to be dynamic and modifiable, while tuples are use for fixed collections of items to ensure data integrity and enable them to use as dictionary key words.\n",
        " 7. What is the difference between “==” and “is” operators in Python?\n",
        "    - == checks for value equality, while is checks for object identity.\n",
        "  8.  What is the difference between “==” and “is” operators in Python?\n",
        "    - logical operaters are used to combine conditional statements: and, or, and not.\n",
        "  9. What is type casting in python?\n",
        "    - Type casting is converting one data type into another, like conerting sting to an integer or integer to string.\n",
        "  10. What is the difference between implicit and explicit type casting?\n",
        "    - Explicit type casting is done manually by the programer using the funnctions.\n",
        "     while implicit type casting is done automatically by the pyhton.\n",
        "  11. What is the purpose of conditional statements?\n",
        "    - conditional statements control thr flow of a program based on certain conditions.\n",
        "  12. How dose the elif statements work?\n",
        "    - it check the anohter condition if the previous condition is false.\n",
        "  13. what is the differences between for and while loops?\n",
        "     - while repeatedly executed a block of code untill a condition is met.\n",
        "       for loop iterate over a sequence.\n",
        "  14. Describe a scenario where while loop is more suitsble than a for loop.\n",
        "    -  a user can enter the password untill the user enters the correct password while loging in.\n",
        "\n",
        "\n",
        "\n",
        "     \n"
      ],
      "metadata": {
        "id": "-M9y-RFw4HYz"
      }
    },
    {
      "cell_type": "markdown",
      "source": [
        "**practical**\n"
      ],
      "metadata": {
        "id": "tTpx5jmWKd9X"
      }
    },
    {
      "cell_type": "markdown",
      "source": [
        "1. Write a Python program to print \"Hello, World!y\n"
      ],
      "metadata": {
        "id": "U52zmteeK4Xv"
      }
    },
    {
      "cell_type": "code",
      "source": [],
      "metadata": {
        "id": "d4WHMCDpLNre"
      },
      "execution_count": null,
      "outputs": []
    },
    {
      "cell_type": "code",
      "source": [
        "print(\"Hello world\")\n"
      ],
      "metadata": {
        "colab": {
          "base_uri": "https://localhost:8080/"
        },
        "id": "P9MRz9NWKlCQ",
        "outputId": "c2e65409-41d8-441a-a2ae-fe31c54f088b"
      },
      "execution_count": 1,
      "outputs": [
        {
          "output_type": "stream",
          "name": "stdout",
          "text": [
            "Hello world\n"
          ]
        }
      ]
    },
    {
      "cell_type": "markdown",
      "source": [
        "2. Write a Python program that displays your name and age"
      ],
      "metadata": {
        "id": "WdDsEtHoYPxn"
      }
    },
    {
      "cell_type": "code",
      "source": [
        "input(\"please enter your name \")\n",
        "input(\"please enter your age \")"
      ],
      "metadata": {
        "colab": {
          "base_uri": "https://localhost:8080/",
          "height": 72
        },
        "id": "Y6M5akRoLO8I",
        "outputId": "10b26f49-afc5-4961-f4d5-355a88b8106c"
      },
      "execution_count": 2,
      "outputs": [
        {
          "name": "stdout",
          "output_type": "stream",
          "text": [
            "please enter your name ela donre\n",
            "please enter your age 26\n"
          ]
        },
        {
          "output_type": "execute_result",
          "data": {
            "text/plain": [
              "'26'"
            ],
            "application/vnd.google.colaboratory.intrinsic+json": {
              "type": "string"
            }
          },
          "metadata": {},
          "execution_count": 2
        }
      ]
    },
    {
      "cell_type": "markdown",
      "source": [
        "3. Write code to print all the pre-defined keywords in Python using the keyword library"
      ],
      "metadata": {
        "id": "NrMSCQ90YX0-"
      }
    },
    {
      "cell_type": "code",
      "source": [
        "help(\"keywords\")"
      ],
      "metadata": {
        "colab": {
          "base_uri": "https://localhost:8080/"
        },
        "id": "ykTMhRo0wMVO",
        "outputId": "2231c2a0-c21a-420f-9eb5-433599a16360"
      },
      "execution_count": 3,
      "outputs": [
        {
          "output_type": "stream",
          "name": "stdout",
          "text": [
            "\n",
            "Here is a list of the Python keywords.  Enter any keyword to get more help.\n",
            "\n",
            "False               class               from                or\n",
            "None                continue            global              pass\n",
            "True                def                 if                  raise\n",
            "and                 del                 import              return\n",
            "as                  elif                in                  try\n",
            "assert              else                is                  while\n",
            "async               except              lambda              with\n",
            "await               finally             nonlocal            yield\n",
            "break               for                 not                 \n",
            "\n"
          ]
        }
      ]
    },
    {
      "cell_type": "markdown",
      "source": [
        "5. Create a list and tuple in Python, and demonstrate how attempting to change an element works differently\n",
        "for each"
      ],
      "metadata": {
        "id": "O6YgZv46Yk_0"
      }
    },
    {
      "cell_type": "code",
      "source": [
        "my_list = [22, 30, 78]\n",
        "my_tuple = [22, 30, 78]\n",
        "\n",
        "# Modifying list\n",
        "my_list[1] == 49\n",
        "print(\"modified list:\", my_list)\n",
        "\n",
        "# Modifying tuple\n",
        "my_tuple[1] == 49\n",
        "print('can not modify:,my_tuple')"
      ],
      "metadata": {
        "colab": {
          "base_uri": "https://localhost:8080/"
        },
        "id": "tUlSZDoPy3d3",
        "outputId": "4da9a719-d944-495f-bef2-6dacd2188a12"
      },
      "execution_count": 29,
      "outputs": [
        {
          "output_type": "stream",
          "name": "stdout",
          "text": [
            "modified list: [22, 30, 78]\n",
            "can not modify:,my_tuple\n"
          ]
        }
      ]
    },
    {
      "cell_type": "markdown",
      "source": [
        "6. Write a function to demonstrate the behavior of mutable and immutable arguments"
      ],
      "metadata": {
        "id": "WaAaA30OYtvt"
      }
    },
    {
      "cell_type": "code",
      "source": [
        "# Mutability\n",
        "list_cont = [22, 50, 225, 'boat', 'river','home']\n",
        "list_cont[-1] ='netflix'\n",
        "list_cont"
      ],
      "metadata": {
        "colab": {
          "base_uri": "https://localhost:8080/"
        },
        "id": "CIiK6pv51HaF",
        "outputId": "9c2ae2d5-4b4b-4d09-ef5b-f82477019bb9"
      },
      "execution_count": 59,
      "outputs": [
        {
          "output_type": "execute_result",
          "data": {
            "text/plain": [
              "[22, 50, 225, 'boat', 'river', 'netflix']"
            ]
          },
          "metadata": {},
          "execution_count": 59
        }
      ]
    },
    {
      "cell_type": "code",
      "source": [
        "#immutable\n",
        "y = 578\n",
        "y"
      ],
      "metadata": {
        "colab": {
          "base_uri": "https://localhost:8080/"
        },
        "id": "xQN7P-UV9cwX",
        "outputId": "68e98c44-ad0d-49fa-e5cf-0922b608a96c"
      },
      "execution_count": 76,
      "outputs": [
        {
          "output_type": "execute_result",
          "data": {
            "text/plain": [
              "578"
            ]
          },
          "metadata": {},
          "execution_count": 76
        }
      ]
    },
    {
      "cell_type": "code",
      "source": [
        "y[2] = 6"
      ],
      "metadata": {
        "colab": {
          "base_uri": "https://localhost:8080/",
          "height": 145
        },
        "id": "hephSP6LChp1",
        "outputId": "c7373ff1-b833-4852-ffad-510fb17bf6d1"
      },
      "execution_count": 77,
      "outputs": [
        {
          "output_type": "error",
          "ename": "TypeError",
          "evalue": "'int' object does not support item assignment",
          "traceback": [
            "\u001b[0;31m---------------------------------------------------------------------------\u001b[0m",
            "\u001b[0;31mTypeError\u001b[0m                                 Traceback (most recent call last)",
            "\u001b[0;32m<ipython-input-77-a4698fdae213>\u001b[0m in \u001b[0;36m<cell line: 0>\u001b[0;34m()\u001b[0m\n\u001b[0;32m----> 1\u001b[0;31m \u001b[0my\u001b[0m\u001b[0;34m[\u001b[0m\u001b[0;36m2\u001b[0m\u001b[0;34m]\u001b[0m \u001b[0;34m=\u001b[0m \u001b[0;36m6\u001b[0m\u001b[0;34m\u001b[0m\u001b[0;34m\u001b[0m\u001b[0m\n\u001b[0m",
            "\u001b[0;31mTypeError\u001b[0m: 'int' object does not support item assignment"
          ]
        }
      ]
    },
    {
      "cell_type": "code",
      "source": [
        "#immutable\n",
        "a = \"home\"\n",
        "a"
      ],
      "metadata": {
        "colab": {
          "base_uri": "https://localhost:8080/",
          "height": 36
        },
        "id": "uXI1Mdjm_JTf",
        "outputId": "2685cf2d-ad91-4eba-98e0-cdae85802679"
      },
      "execution_count": 72,
      "outputs": [
        {
          "output_type": "execute_result",
          "data": {
            "text/plain": [
              "'home'"
            ],
            "application/vnd.google.colaboratory.intrinsic+json": {
              "type": "string"
            }
          },
          "metadata": {},
          "execution_count": 72
        }
      ]
    },
    {
      "cell_type": "code",
      "source": [
        "a[0] = \"m\""
      ],
      "metadata": {
        "colab": {
          "base_uri": "https://localhost:8080/",
          "height": 145
        },
        "id": "m29_9vTW_dnE",
        "outputId": "c0e9a12a-f5c9-4b12-862e-c4189530a04b"
      },
      "execution_count": 75,
      "outputs": [
        {
          "output_type": "error",
          "ename": "TypeError",
          "evalue": "'str' object does not support item assignment",
          "traceback": [
            "\u001b[0;31m---------------------------------------------------------------------------\u001b[0m",
            "\u001b[0;31mTypeError\u001b[0m                                 Traceback (most recent call last)",
            "\u001b[0;32m<ipython-input-75-c251a84d9847>\u001b[0m in \u001b[0;36m<cell line: 0>\u001b[0;34m()\u001b[0m\n\u001b[0;32m----> 1\u001b[0;31m \u001b[0ma\u001b[0m\u001b[0;34m[\u001b[0m\u001b[0;36m0\u001b[0m\u001b[0;34m]\u001b[0m \u001b[0;34m=\u001b[0m \u001b[0;34m\"m\"\u001b[0m\u001b[0;34m\u001b[0m\u001b[0;34m\u001b[0m\u001b[0m\n\u001b[0m",
            "\u001b[0;31mTypeError\u001b[0m: 'str' object does not support item assignment"
          ]
        }
      ]
    },
    {
      "cell_type": "markdown",
      "source": [
        "7. Write a program that performs basic arithmetic operations on two user-input numbers.\n",
        "\n"
      ],
      "metadata": {
        "id": "AyTBObxAYz87"
      }
    },
    {
      "cell_type": "code",
      "source": [
        "#arithmatic operations\n",
        "a = 256\n",
        "b = 2\n",
        "c = 12\n"
      ],
      "metadata": {
        "id": "TUxWn2dwCPr3"
      },
      "execution_count": 78,
      "outputs": []
    },
    {
      "cell_type": "code",
      "source": [
        "a+c"
      ],
      "metadata": {
        "colab": {
          "base_uri": "https://localhost:8080/"
        },
        "id": "e3ah3wEoEEPJ",
        "outputId": "c59f0e1a-2d66-40b2-a6e4-091e1cc54c37"
      },
      "execution_count": 79,
      "outputs": [
        {
          "output_type": "execute_result",
          "data": {
            "text/plain": [
              "268"
            ]
          },
          "metadata": {},
          "execution_count": 79
        }
      ]
    },
    {
      "cell_type": "code",
      "source": [
        "c/b"
      ],
      "metadata": {
        "colab": {
          "base_uri": "https://localhost:8080/"
        },
        "id": "prYvDMt4EH13",
        "outputId": "699c2ada-1776-497d-b7d0-16031433f899"
      },
      "execution_count": 80,
      "outputs": [
        {
          "output_type": "execute_result",
          "data": {
            "text/plain": [
              "6.0"
            ]
          },
          "metadata": {},
          "execution_count": 80
        }
      ]
    },
    {
      "cell_type": "code",
      "source": [
        "a-b"
      ],
      "metadata": {
        "colab": {
          "base_uri": "https://localhost:8080/"
        },
        "id": "iVEOTC5sELsu",
        "outputId": "e25734c9-843d-4584-ac72-b67e885b4b79"
      },
      "execution_count": 82,
      "outputs": [
        {
          "output_type": "execute_result",
          "data": {
            "text/plain": [
              "254"
            ]
          },
          "metadata": {},
          "execution_count": 82
        }
      ]
    },
    {
      "cell_type": "code",
      "source": [
        "a*c"
      ],
      "metadata": {
        "colab": {
          "base_uri": "https://localhost:8080/"
        },
        "id": "idMQzKpsEPfU",
        "outputId": "acc19265-d189-4598-870a-3082fbeab032"
      },
      "execution_count": 83,
      "outputs": [
        {
          "output_type": "execute_result",
          "data": {
            "text/plain": [
              "3072"
            ]
          },
          "metadata": {},
          "execution_count": 83
        }
      ]
    },
    {
      "cell_type": "code",
      "source": [
        "36/10"
      ],
      "metadata": {
        "colab": {
          "base_uri": "https://localhost:8080/"
        },
        "id": "xo6805wTFe4L",
        "outputId": "58436753-e33a-4bc4-bddb-0380cbbfa561"
      },
      "execution_count": 89,
      "outputs": [
        {
          "output_type": "execute_result",
          "data": {
            "text/plain": [
              "3.6"
            ]
          },
          "metadata": {},
          "execution_count": 89
        }
      ]
    },
    {
      "cell_type": "code",
      "source": [
        "36//10"
      ],
      "metadata": {
        "colab": {
          "base_uri": "https://localhost:8080/"
        },
        "id": "JQCY0QrSFpAr",
        "outputId": "1e38cf5c-25d8-4b8e-cff8-b54200b674d7"
      },
      "execution_count": 90,
      "outputs": [
        {
          "output_type": "execute_result",
          "data": {
            "text/plain": [
              "3"
            ]
          },
          "metadata": {},
          "execution_count": 90
        }
      ]
    },
    {
      "cell_type": "code",
      "source": [
        "4**5"
      ],
      "metadata": {
        "colab": {
          "base_uri": "https://localhost:8080/"
        },
        "id": "Qf5pahygFroZ",
        "outputId": "b205028e-b487-4a08-d7ce-f2fbb9790c93"
      },
      "execution_count": 91,
      "outputs": [
        {
          "output_type": "execute_result",
          "data": {
            "text/plain": [
              "1024"
            ]
          },
          "metadata": {},
          "execution_count": 91
        }
      ]
    },
    {
      "cell_type": "markdown",
      "source": [
        "8. Write a program to demonstrate the use of logical operators"
      ],
      "metadata": {
        "id": "1fkTDJx3Y6aM"
      }
    },
    {
      "cell_type": "code",
      "source": [
        "a = True\n",
        "b = False\n",
        "print(\"a and b:\", a&b)"
      ],
      "metadata": {
        "colab": {
          "base_uri": "https://localhost:8080/"
        },
        "id": "RU4qV03eG5ta",
        "outputId": "d7e43148-7484-4939-c608-9041f9beca06"
      },
      "execution_count": 97,
      "outputs": [
        {
          "output_type": "stream",
          "name": "stdout",
          "text": [
            "a and b: False\n"
          ]
        }
      ]
    },
    {
      "cell_type": "code",
      "source": [
        "print(\"a or b:\", a or b  )"
      ],
      "metadata": {
        "colab": {
          "base_uri": "https://localhost:8080/"
        },
        "id": "4VCXecaRHaWd",
        "outputId": "9fcac79a-c42a-4f33-fd8f-231615df5999"
      },
      "execution_count": 99,
      "outputs": [
        {
          "output_type": "stream",
          "name": "stdout",
          "text": [
            "a or b: True\n"
          ]
        }
      ]
    },
    {
      "cell_type": "code",
      "source": [
        "print ( not b)"
      ],
      "metadata": {
        "colab": {
          "base_uri": "https://localhost:8080/"
        },
        "id": "VZkrt8_NHoHR",
        "outputId": "28b0ca44-60e3-441d-c3cd-42bfa1b15fd8"
      },
      "execution_count": 109,
      "outputs": [
        {
          "output_type": "stream",
          "name": "stdout",
          "text": [
            "True\n"
          ]
        }
      ]
    },
    {
      "cell_type": "code",
      "source": [
        "f = 9\n",
        "g = 6\n",
        "print(g & f)"
      ],
      "metadata": {
        "colab": {
          "base_uri": "https://localhost:8080/"
        },
        "id": "2iltW4C_E56P",
        "outputId": "606e7cf1-eed0-4a39-d088-818ac1196b9f"
      },
      "execution_count": 95,
      "outputs": [
        {
          "output_type": "stream",
          "name": "stdout",
          "text": [
            "0\n"
          ]
        }
      ]
    },
    {
      "cell_type": "code",
      "source": [
        " d = 12\n",
        " e = 14"
      ],
      "metadata": {
        "id": "c7vwXkz3ETPS"
      },
      "execution_count": 84,
      "outputs": []
    },
    {
      "cell_type": "code",
      "source": [
        "d or e\n"
      ],
      "metadata": {
        "colab": {
          "base_uri": "https://localhost:8080/"
        },
        "id": "F31qim1YEenF",
        "outputId": "dbe227a7-5f8f-4e3a-ec53-7a88818ecd1c"
      },
      "execution_count": 112,
      "outputs": [
        {
          "output_type": "execute_result",
          "data": {
            "text/plain": [
              "12"
            ]
          },
          "metadata": {},
          "execution_count": 112
        }
      ]
    },
    {
      "cell_type": "code",
      "source": [
        "d and e"
      ],
      "metadata": {
        "colab": {
          "base_uri": "https://localhost:8080/"
        },
        "id": "puwhcvL0Eijc",
        "outputId": "797e9573-a698-4da9-802d-81a0ab934c2c"
      },
      "execution_count": 113,
      "outputs": [
        {
          "output_type": "execute_result",
          "data": {
            "text/plain": [
              "14"
            ]
          },
          "metadata": {},
          "execution_count": 113
        }
      ]
    },
    {
      "cell_type": "code",
      "source": [
        "not d"
      ],
      "metadata": {
        "colab": {
          "base_uri": "https://localhost:8080/"
        },
        "id": "Gujn-msjI2kB",
        "outputId": "955ee5e5-3855-48f4-d780-562eb7803ac7"
      },
      "execution_count": 114,
      "outputs": [
        {
          "output_type": "execute_result",
          "data": {
            "text/plain": [
              "False"
            ]
          },
          "metadata": {},
          "execution_count": 114
        }
      ]
    },
    {
      "cell_type": "markdown",
      "source": [
        "9. Write a Python program to convert user input from string to integer, float, and boolean types."
      ],
      "metadata": {
        "id": "Dl3xYqIuJKj7"
      }
    },
    {
      "cell_type": "code",
      "source": [
        "#intiger to string\n",
        "a = 35\n",
        "type(a)"
      ],
      "metadata": {
        "colab": {
          "base_uri": "https://localhost:8080/"
        },
        "id": "2XjySVjzI4Vn",
        "outputId": "2749b5c5-d9f9-48d1-84b4-0e270df0de7d"
      },
      "execution_count": 115,
      "outputs": [
        {
          "output_type": "execute_result",
          "data": {
            "text/plain": [
              "int"
            ]
          },
          "metadata": {},
          "execution_count": 115
        }
      ]
    },
    {
      "cell_type": "code",
      "source": [
        "a"
      ],
      "metadata": {
        "colab": {
          "base_uri": "https://localhost:8080/"
        },
        "id": "zC4N6Gx4Jr4H",
        "outputId": "3322dd02-bf1b-4960-e4ea-69407449cc20"
      },
      "execution_count": 117,
      "outputs": [
        {
          "output_type": "execute_result",
          "data": {
            "text/plain": [
              "35"
            ]
          },
          "metadata": {},
          "execution_count": 117
        }
      ]
    },
    {
      "cell_type": "code",
      "source": [
        "d = str(a)"
      ],
      "metadata": {
        "id": "TPxQnBmQJgkE"
      },
      "execution_count": 118,
      "outputs": []
    },
    {
      "cell_type": "code",
      "source": [
        "d"
      ],
      "metadata": {
        "colab": {
          "base_uri": "https://localhost:8080/",
          "height": 36
        },
        "id": "QFctHa_yJqc9",
        "outputId": "3f540c21-095f-4fda-8264-5ce57473a48b"
      },
      "execution_count": 119,
      "outputs": [
        {
          "output_type": "execute_result",
          "data": {
            "text/plain": [
              "'35'"
            ],
            "application/vnd.google.colaboratory.intrinsic+json": {
              "type": "string"
            }
          },
          "metadata": {},
          "execution_count": 119
        }
      ]
    },
    {
      "cell_type": "code",
      "source": [
        "type(d)"
      ],
      "metadata": {
        "colab": {
          "base_uri": "https://localhost:8080/"
        },
        "id": "sXOptnoqJz4o",
        "outputId": "590a89b6-32ac-4e22-b12a-39d85e97e96b"
      },
      "execution_count": 120,
      "outputs": [
        {
          "output_type": "execute_result",
          "data": {
            "text/plain": [
              "str"
            ]
          },
          "metadata": {},
          "execution_count": 120
        }
      ]
    },
    {
      "cell_type": "code",
      "source": [
        "# string to intiger\n",
        "a = \"44\"\n",
        "a"
      ],
      "metadata": {
        "colab": {
          "base_uri": "https://localhost:8080/",
          "height": 36
        },
        "id": "tok9vGDwJ16P",
        "outputId": "d51a003d-1b7f-447e-8473-47fa0f48ffa1"
      },
      "execution_count": 129,
      "outputs": [
        {
          "output_type": "execute_result",
          "data": {
            "text/plain": [
              "'44'"
            ],
            "application/vnd.google.colaboratory.intrinsic+json": {
              "type": "string"
            }
          },
          "metadata": {},
          "execution_count": 129
        }
      ]
    },
    {
      "cell_type": "code",
      "source": [
        "type(a)"
      ],
      "metadata": {
        "colab": {
          "base_uri": "https://localhost:8080/"
        },
        "id": "JsrCeReLJ8Pj",
        "outputId": "80677fd1-dba0-42e0-81b6-c67f8f08383d"
      },
      "execution_count": 130,
      "outputs": [
        {
          "output_type": "execute_result",
          "data": {
            "text/plain": [
              "str"
            ]
          },
          "metadata": {},
          "execution_count": 130
        }
      ]
    },
    {
      "cell_type": "code",
      "source": [
        "c = int(a)\n",
        "c"
      ],
      "metadata": {
        "colab": {
          "base_uri": "https://localhost:8080/"
        },
        "id": "3PrQ37MJJ-Dh",
        "outputId": "455558d1-8401-4aff-c8a8-967eb9de5dcc"
      },
      "execution_count": 131,
      "outputs": [
        {
          "output_type": "execute_result",
          "data": {
            "text/plain": [
              "44"
            ]
          },
          "metadata": {},
          "execution_count": 131
        }
      ]
    },
    {
      "cell_type": "code",
      "source": [
        "type(c)"
      ],
      "metadata": {
        "colab": {
          "base_uri": "https://localhost:8080/"
        },
        "id": "4-VTY2G7KBek",
        "outputId": "6ed3c9ae-7ac1-46ca-aec3-ab6e8857939d"
      },
      "execution_count": 132,
      "outputs": [
        {
          "output_type": "execute_result",
          "data": {
            "text/plain": [
              "int"
            ]
          },
          "metadata": {},
          "execution_count": 132
        }
      ]
    },
    {
      "cell_type": "code",
      "source": [
        "#intiger to float\n",
        "a = 4\n",
        "a"
      ],
      "metadata": {
        "colab": {
          "base_uri": "https://localhost:8080/"
        },
        "id": "C0clhamZKhNe",
        "outputId": "d2b750aa-6ddc-4bed-fe9a-bafd95842da3"
      },
      "execution_count": 135,
      "outputs": [
        {
          "output_type": "execute_result",
          "data": {
            "text/plain": [
              "4"
            ]
          },
          "metadata": {},
          "execution_count": 135
        }
      ]
    },
    {
      "cell_type": "code",
      "source": [
        "b = float(a)\n",
        "b"
      ],
      "metadata": {
        "colab": {
          "base_uri": "https://localhost:8080/"
        },
        "id": "Lm2fi7DBKnXz",
        "outputId": "be8ca32c-2f61-480a-b68c-5bdc3b7ede91"
      },
      "execution_count": 136,
      "outputs": [
        {
          "output_type": "execute_result",
          "data": {
            "text/plain": [
              "4.0"
            ]
          },
          "metadata": {},
          "execution_count": 136
        }
      ]
    },
    {
      "cell_type": "code",
      "source": [
        "#float to intiger\n",
        "f = 3.567\n",
        "f"
      ],
      "metadata": {
        "colab": {
          "base_uri": "https://localhost:8080/"
        },
        "id": "Afl3KkJaKsoT",
        "outputId": "d600ed18-ceb4-436f-e4cc-7f3216a2ddd2"
      },
      "execution_count": 137,
      "outputs": [
        {
          "output_type": "execute_result",
          "data": {
            "text/plain": [
              "3.567"
            ]
          },
          "metadata": {},
          "execution_count": 137
        }
      ]
    },
    {
      "cell_type": "code",
      "source": [
        "type(f)"
      ],
      "metadata": {
        "colab": {
          "base_uri": "https://localhost:8080/"
        },
        "id": "v8FCvmF9K2-i",
        "outputId": "aeeb4eba-045b-4cae-f905-c0628143dcf5"
      },
      "execution_count": 139,
      "outputs": [
        {
          "output_type": "execute_result",
          "data": {
            "text/plain": [
              "float"
            ]
          },
          "metadata": {},
          "execution_count": 139
        }
      ]
    },
    {
      "cell_type": "code",
      "source": [
        "g = int(f)\n",
        "g"
      ],
      "metadata": {
        "colab": {
          "base_uri": "https://localhost:8080/"
        },
        "id": "-bQbOb8UK4BJ",
        "outputId": "85c4083c-31cd-44f6-c864-06e749181963"
      },
      "execution_count": 141,
      "outputs": [
        {
          "output_type": "execute_result",
          "data": {
            "text/plain": [
              "3"
            ]
          },
          "metadata": {},
          "execution_count": 141
        }
      ]
    },
    {
      "cell_type": "code",
      "source": [
        "x = 35\n",
        "x"
      ],
      "metadata": {
        "colab": {
          "base_uri": "https://localhost:8080/"
        },
        "id": "st2yV3EJLGKi",
        "outputId": "a65071db-37b5-49d8-e6ea-bd3a49581a29"
      },
      "execution_count": 142,
      "outputs": [
        {
          "output_type": "execute_result",
          "data": {
            "text/plain": [
              "35"
            ]
          },
          "metadata": {},
          "execution_count": 142
        }
      ]
    },
    {
      "cell_type": "code",
      "source": [
        "bool(x)"
      ],
      "metadata": {
        "colab": {
          "base_uri": "https://localhost:8080/"
        },
        "id": "IwAsHdm2LoHx",
        "outputId": "d5e84edb-fdfd-419a-a7e4-0803debb0a02"
      },
      "execution_count": 143,
      "outputs": [
        {
          "output_type": "execute_result",
          "data": {
            "text/plain": [
              "True"
            ]
          },
          "metadata": {},
          "execution_count": 143
        }
      ]
    },
    {
      "cell_type": "code",
      "source": [
        "x  = 0"
      ],
      "metadata": {
        "id": "jxINvJZ7Lqg0"
      },
      "execution_count": 144,
      "outputs": []
    },
    {
      "cell_type": "code",
      "source": [
        "bool(x)"
      ],
      "metadata": {
        "colab": {
          "base_uri": "https://localhost:8080/"
        },
        "id": "UgsZ5XPoLuTo",
        "outputId": "c9df36ed-21b3-4d64-8137-f3f69cfe1637"
      },
      "execution_count": 145,
      "outputs": [
        {
          "output_type": "execute_result",
          "data": {
            "text/plain": [
              "False"
            ]
          },
          "metadata": {},
          "execution_count": 145
        }
      ]
    },
    {
      "cell_type": "markdown",
      "source": [
        "10. Write code to demonstrate type casting with list elements."
      ],
      "metadata": {
        "id": "cOG9EKxd8d_L"
      }
    },
    {
      "cell_type": "markdown",
      "source": [
        "11. Write a program that checks if a number is positive, negative, or zero."
      ],
      "metadata": {
        "id": "CUoJ663rR9Yt"
      }
    },
    {
      "cell_type": "code",
      "source": [
        "a = 33\n",
        "a"
      ],
      "metadata": {
        "colab": {
          "base_uri": "https://localhost:8080/"
        },
        "id": "syhqs0lXRKlX",
        "outputId": "714bcbec-e4a0-4aaf-9b7a-b2419d04c2d1"
      },
      "execution_count": 169,
      "outputs": [
        {
          "output_type": "execute_result",
          "data": {
            "text/plain": [
              "33"
            ]
          },
          "metadata": {},
          "execution_count": 169
        }
      ]
    },
    {
      "cell_type": "code",
      "source": [
        "a = 45\n",
        "if a > 0:\n",
        "  print(\"a is positive\")\n",
        "  elif a < 0:\n",
        "    print(\"a is negitive\")\n",
        "    else :\n",
        "      print(\"a is zero\")"
      ],
      "metadata": {
        "colab": {
          "base_uri": "https://localhost:8080/",
          "height": 109
        },
        "id": "jNwssYfI7Ma4",
        "outputId": "a4fea304-c4b1-44a4-d110-b593e408540c"
      },
      "execution_count": 236,
      "outputs": [
        {
          "output_type": "error",
          "ename": "SyntaxError",
          "evalue": "invalid syntax (<ipython-input-236-ee67d2b25df2>, line 4)",
          "traceback": [
            "\u001b[0;36m  File \u001b[0;32m\"<ipython-input-236-ee67d2b25df2>\"\u001b[0;36m, line \u001b[0;32m4\u001b[0m\n\u001b[0;31m    elif a < 0:\u001b[0m\n\u001b[0m    ^\u001b[0m\n\u001b[0;31mSyntaxError\u001b[0m\u001b[0;31m:\u001b[0m invalid syntax\n"
          ]
        }
      ]
    },
    {
      "cell_type": "code",
      "source": [
        "a = input(\"please enter a number\")\n",
        "a = int(a)\n",
        "if a > 0:\n",
        "  print(\"a is positive\")\n",
        "  else:\n",
        "    print(\"a is negitive\")"
      ],
      "metadata": {
        "colab": {
          "base_uri": "https://localhost:8080/",
          "height": 109
        },
        "id": "7fHor7WeTQwK",
        "outputId": "bfbf8f44-e455-4cca-aebf-759397337547"
      },
      "execution_count": 234,
      "outputs": [
        {
          "output_type": "error",
          "ename": "SyntaxError",
          "evalue": "invalid syntax (<ipython-input-234-d1ef77faa4ed>, line 5)",
          "traceback": [
            "\u001b[0;36m  File \u001b[0;32m\"<ipython-input-234-d1ef77faa4ed>\"\u001b[0;36m, line \u001b[0;32m5\u001b[0m\n\u001b[0;31m    else:\u001b[0m\n\u001b[0m    ^\u001b[0m\n\u001b[0;31mSyntaxError\u001b[0m\u001b[0;31m:\u001b[0m invalid syntax\n"
          ]
        }
      ]
    },
    {
      "cell_type": "markdown",
      "source": [
        "12. Write a for loop to print numbers from 1 to 10.\n",
        "\n"
      ],
      "metadata": {
        "id": "XE6-FRQSmOTu"
      }
    },
    {
      "cell_type": "code",
      "source": [
        "for i in range (1, 11):\n",
        "  print(i)"
      ],
      "metadata": {
        "colab": {
          "base_uri": "https://localhost:8080/"
        },
        "id": "pmPFelWAmtCZ",
        "outputId": "c1bc938d-28f1-4bfe-d6b2-2f301e198fde"
      },
      "execution_count": 197,
      "outputs": [
        {
          "output_type": "stream",
          "name": "stdout",
          "text": [
            "1\n",
            "2\n",
            "3\n",
            "4\n",
            "5\n",
            "6\n",
            "7\n",
            "8\n",
            "9\n",
            "10\n"
          ]
        }
      ]
    },
    {
      "cell_type": "markdown",
      "source": [
        "13. Write a Python program to find the sum of all even numbers between 1 and 50"
      ],
      "metadata": {
        "id": "ss_HYa4zwWpT"
      }
    },
    {
      "cell_type": "code",
      "source": [
        "sum_even = 0\n",
        "for i in range(2, 51, 2):\n",
        "  sum_even += i\n",
        "  print(\"sum of even numbers from 1 to 50:\", sum_even)"
      ],
      "metadata": {
        "colab": {
          "base_uri": "https://localhost:8080/"
        },
        "id": "HjnXDmWCyMfg",
        "outputId": "4f340109-9988-453d-b261-d140ddf87f09"
      },
      "execution_count": 219,
      "outputs": [
        {
          "output_type": "stream",
          "name": "stdout",
          "text": [
            "sum of even numbers from 1 to 50: 2\n",
            "sum of even numbers from 1 to 50: 6\n",
            "sum of even numbers from 1 to 50: 12\n",
            "sum of even numbers from 1 to 50: 20\n",
            "sum of even numbers from 1 to 50: 30\n",
            "sum of even numbers from 1 to 50: 42\n",
            "sum of even numbers from 1 to 50: 56\n",
            "sum of even numbers from 1 to 50: 72\n",
            "sum of even numbers from 1 to 50: 90\n",
            "sum of even numbers from 1 to 50: 110\n",
            "sum of even numbers from 1 to 50: 132\n",
            "sum of even numbers from 1 to 50: 156\n",
            "sum of even numbers from 1 to 50: 182\n",
            "sum of even numbers from 1 to 50: 210\n",
            "sum of even numbers from 1 to 50: 240\n",
            "sum of even numbers from 1 to 50: 272\n",
            "sum of even numbers from 1 to 50: 306\n",
            "sum of even numbers from 1 to 50: 342\n",
            "sum of even numbers from 1 to 50: 380\n",
            "sum of even numbers from 1 to 50: 420\n",
            "sum of even numbers from 1 to 50: 462\n",
            "sum of even numbers from 1 to 50: 506\n",
            "sum of even numbers from 1 to 50: 552\n",
            "sum of even numbers from 1 to 50: 600\n",
            "sum of even numbers from 1 to 50: 650\n"
          ]
        }
      ]
    },
    {
      "cell_type": "markdown",
      "source": [
        "14. Write a program to reverse a string using a while loop."
      ],
      "metadata": {
        "id": "0FwQUnI60la5"
      }
    },
    {
      "cell_type": "code",
      "source": [
        "a = \"netflix\"\n",
        "reversed_a = \"a\"\n",
        "index = len(a)-1\n",
        "while index >=0:\n",
        "  reversed_a += a[index]\n",
        "  index -= 1\n",
        "  print(\"reversed a:\", reversed_a)"
      ],
      "metadata": {
        "colab": {
          "base_uri": "https://localhost:8080/"
        },
        "id": "Hqv0ArFyyny5",
        "outputId": "704c7344-f7a8-44df-bceb-1b2ae0c7a6fc"
      },
      "execution_count": 228,
      "outputs": [
        {
          "output_type": "stream",
          "name": "stdout",
          "text": [
            "reversed a: ax\n",
            "reversed a: axi\n",
            "reversed a: axil\n",
            "reversed a: axilf\n",
            "reversed a: axilft\n",
            "reversed a: axilfte\n",
            "reversed a: axilften\n"
          ]
        }
      ]
    },
    {
      "cell_type": "markdown",
      "source": [
        "15. Write a Python program to calculate the factorial of a number provided by the user using a while loop."
      ],
      "metadata": {
        "id": "rLs9AYMr4a_c"
      }
    },
    {
      "cell_type": "code",
      "source": [
        "num = int(input(\"enter a number:\"))\n",
        "factorial = 1\n",
        "n = num\n",
        "while n > 1:\n",
        "  factorial *= n\n",
        "  n -=1\n",
        "  print(f\"Factorial of {num}is {factorial}\")"
      ],
      "metadata": {
        "colab": {
          "base_uri": "https://localhost:8080/"
        },
        "id": "rTWfDdpt2ksb",
        "outputId": "c09076e4-276e-401c-f239-d253235cfdd8"
      },
      "execution_count": 229,
      "outputs": [
        {
          "output_type": "stream",
          "name": "stdout",
          "text": [
            "enter a number:7\n",
            "Factorial of 7is 7\n",
            "Factorial of 7is 42\n",
            "Factorial of 7is 210\n",
            "Factorial of 7is 840\n",
            "Factorial of 7is 2520\n",
            "Factorial of 7is 5040\n"
          ]
        }
      ]
    },
    {
      "cell_type": "code",
      "source": [
        "num = int(input(\"enter a number:\"))\n",
        "factorial = 1\n",
        "n = num\n",
        "while n > 1:\n",
        "  factorial *= n\n",
        "  n -=1\n",
        "  print(f\"Factorial of {num}is {factorial}\")"
      ],
      "metadata": {
        "colab": {
          "base_uri": "https://localhost:8080/"
        },
        "id": "5qRIoiMG6Iid",
        "outputId": "5f0a7408-5255-4120-ceff-c75775dc431e"
      },
      "execution_count": 230,
      "outputs": [
        {
          "output_type": "stream",
          "name": "stdout",
          "text": [
            "enter a number:8\n",
            "Factorial of 8is 8\n",
            "Factorial of 8is 56\n",
            "Factorial of 8is 336\n",
            "Factorial of 8is 1680\n",
            "Factorial of 8is 6720\n",
            "Factorial of 8is 20160\n",
            "Factorial of 8is 40320\n"
          ]
        }
      ]
    },
    {
      "cell_type": "code",
      "source": [],
      "metadata": {
        "id": "m0grHZe_6Pf5"
      },
      "execution_count": null,
      "outputs": []
    }
  ]
}